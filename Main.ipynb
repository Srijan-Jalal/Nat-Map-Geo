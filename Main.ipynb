{
 "cells": [
  {
   "cell_type": "code",
   "execution_count": null,
   "metadata": {},
   "outputs": [],
   "source": [
    "import pandas as pd\n",
    "import matplotlib.pyplot as plt\n",
    "import simplekml\n",
    "import requests\n",
    "import ipaddress\n",
    "from scapy.all import rdpcap"
   ]
  },
  {
   "cell_type": "code",
   "execution_count": null,
   "metadata": {},
   "outputs": [],
   "source": [
    "# Load the pcap file\n",
    "packets = rdpcap('wire.pcap')\n",
    "print('Packet loaded from .pcap file')"
   ]
  },
  {
   "cell_type": "code",
   "execution_count": null,
   "metadata": {},
   "outputs": [],
   "source": [
    "# Extracting the required data from packets\n",
    "data = []\n",
    "for packet in packets:\n",
    "    if packet.haslayer('IP'):\n",
    "        src_ip= packet['IP'].src\n",
    "        dst_ip = packet['IP'].dst\n",
    "        protocol = packet['IP'].proto\n",
    "        length = packet['IP'].len\n",
    "        data.append([src_ip, dst_ip, protocol, length])\n",
    "print('Data had been Extracted')"
   ]
  },
  {
   "cell_type": "code",
   "execution_count": null,
   "metadata": {},
   "outputs": [],
   "source": [
    "# Convert to a DataFrame\n",
    "df = pd.DataFrame(data, columns=['Source IP', 'Destination IP', 'Protocol', 'Length'])\n",
    "\n",
    "# Save to CSV\n",
    "df.to_csv('network_data.csv', index=False)\n",
    "\n",
    "print('.csv file has been generated')"
   ]
  },
  {
   "cell_type": "code",
   "execution_count": null,
   "metadata": {},
   "outputs": [],
   "source": [
    "# Load the network data\n",
    "df = pd.read_csv('network_data.csv')\n",
    "\n",
    "print('.csv has been loaded')"
   ]
  },
  {
   "cell_type": "code",
   "execution_count": null,
   "metadata": {},
   "outputs": [],
   "source": [
    "# Example visualization: Number of packets per protocol\n",
    "protocol_counts = df['Protocol'].value_counts()\n",
    "\n",
    "plt.figure(figsize=(10, 6))\n",
    "protocol_counts.plot(kind='bar')\n",
    "plt.xlabel('Protocol')\n",
    "plt.ylabel('Number of Packets')\n",
    "plt.title('Number of Packets per Protocol')\n",
    "plt.show()"
   ]
  },
  {
   "cell_type": "code",
   "execution_count": null,
   "metadata": {},
   "outputs": [],
   "source": [
    "# Create a KML object\n",
    "kml = simplekml.Kml()\n",
    "\n",
    "print('Kml file object has been initialzed')\n",
    "\n",
    "#your ipinfo.io API token\n",
    "api_token = 'Your_API_Token'"
   ]
  },
  {
   "cell_type": "code",
   "execution_count": null,
   "metadata": {},
   "outputs": [],
   "source": [
    "# Dictionary to store coordinates for each IP\n",
    "ip_coords = {}\n",
    "\n",
    "print('IP dict has been initialzed')"
   ]
  },
  {
   "cell_type": "code",
   "execution_count": 11,
   "metadata": {},
   "outputs": [],
   "source": [
    "def get_coords_from_ip(ip, token):\n",
    "    # Check if the IP is in the specified range\n",
    "    if ipaddress.ip_address(ip) in ipaddress.ip_network('192.168.0.0/16'):\n",
    "        return (79.481774,29.218127)\n",
    "    if ipaddress.ip_address(ip) in ipaddress.ip_network('224.0.0.0/8'):\n",
    "        return (-0.119386,51.522961)\n",
    "    # Use ipinfo.io API for other IPs\n",
    "    url = f\"https://ipinfo.io/{ip}/json?token={token}\"\n",
    "    response = requests.get(url)\n",
    "    data = response.json()\n",
    "    if 'loc' in data:\n",
    "        lat, lon = map(float, data['loc'].split(','))\n",
    "        return (lon, lat)  # KML uses (longitude, latitude)\n",
    "    else:\n",
    "        print(f\"No coordinates found for IP: {ip}\")\n",
    "        return None"
   ]
  },
  {
   "cell_type": "code",
   "execution_count": 12,
   "metadata": {},
   "outputs": [],
   "source": [
    "# Add lines between source and destination IPs\n",
    "for index, row in df.iterrows():\n",
    "    src_ip = row['Source IP']\n",
    "    dst_ip = row['Destination IP']\n",
    "\n",
    "    # Get coordinates for source IP\n",
    "    if src_ip not in ip_coords:\n",
    "        src_coords = get_coords_from_ip(src_ip, api_token)\n",
    "        if src_coords:\n",
    "            ip_coords[src_ip] = src_coords\n",
    "        else:\n",
    "            continue  # Skip if no coordinates found\n",
    "    src_coords = ip_coords[src_ip]\n",
    "\n",
    "    # Get coordinates for destination IP\n",
    "    if dst_ip not in ip_coords:\n",
    "        dst_coords = get_coords_from_ip(dst_ip, api_token)\n",
    "        if dst_coords:\n",
    "            ip_coords[dst_ip] = dst_coords\n",
    "        else:\n",
    "            continue  # Skip if no coordinates found\n",
    "    dst_coords = ip_coords[dst_ip]\n",
    "\n",
    "    # Add line to KML\n",
    "    line = kml.newlinestring(name=f\"Packet {index+1}\",\n",
    "                             description=f\"Source: {src_ip}\\nDestination: {dst_ip}\\nProtocol: {row['Protocol']}\\nLength: {row['Length']}\",\n",
    "                             coords=[src_coords, dst_coords])\n",
    "    line.style.linestyle.color = simplekml.Color.red\n",
    "    line.style.linestyle.width = 2"
   ]
  },
  {
   "cell_type": "code",
   "execution_count": null,
   "metadata": {},
   "outputs": [],
   "source": [
    "# Save to KML file\n",
    "kml.save('network_lines.kml')\n",
    "\n",
    "print('kml has been genearted')"
   ]
  }
 ],
 "metadata": {
  "kernelspec": {
   "display_name": "Python 3",
   "language": "python",
   "name": "python3"
  },
  "language_info": {
   "codemirror_mode": {
    "name": "ipython",
    "version": 3
   },
   "file_extension": ".py",
   "mimetype": "text/x-python",
   "name": "python",
   "nbconvert_exporter": "python",
   "pygments_lexer": "ipython3",
   "version": "3.12.4"
  }
 },
 "nbformat": 4,
 "nbformat_minor": 2
}
